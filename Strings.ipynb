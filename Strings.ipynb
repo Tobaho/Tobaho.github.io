{
  "nbformat": 4,
  "nbformat_minor": 0,
  "metadata": {
    "colab": {
      "name": "Strings",
      "provenance": [],
      "authorship_tag": "ABX9TyP0NOh15QNy1Dz7/xdgny3Q",
      "include_colab_link": true
    },
    "kernelspec": {
      "name": "python3",
      "display_name": "Python 3"
    },
    "language_info": {
      "name": "python"
    }
  },
  "cells": [
    {
      "cell_type": "markdown",
      "metadata": {
        "id": "view-in-github",
        "colab_type": "text"
      },
      "source": [
        "<a href=\"https://colab.research.google.com/github/Tobaho/Tobaho.github.io/blob/main/Strings.ipynb\" target=\"_parent\"><img src=\"https://colab.research.google.com/assets/colab-badge.svg\" alt=\"Open In Colab\"/></a>"
      ]
    },
    {
      "cell_type": "markdown",
      "source": [
        "**Strings**"
      ],
      "metadata": {
        "id": "cnfv3Y_Od02E"
      }
    },
    {
      "cell_type": "markdown",
      "source": [
        "I will be writing a program to print the 'Happy Birthday' song including my name. "
      ],
      "metadata": {
        "id": "rxOafKpHe8Ov"
      }
    },
    {
      "cell_type": "code",
      "source": [
        "HBD = 'happy birthday to you Gorgeous Tobi'.split(' ')\n",
        "num = [0,1,2,3,0,1,2,3,0,1,4,5,0,1,2,3]\n",
        "for T in num: print(HBD[T])\n",
        "\n"
      ],
      "metadata": {
        "colab": {
          "base_uri": "https://localhost:8080/"
        },
        "id": "ae4mB4D9fF8D",
        "outputId": "32932020-213c-430f-e84d-19763717ba83"
      },
      "execution_count": 11,
      "outputs": [
        {
          "output_type": "stream",
          "name": "stdout",
          "text": [
            "happy\n",
            "birthday\n",
            "to\n",
            "you\n",
            "happy\n",
            "birthday\n",
            "to\n",
            "you\n",
            "happy\n",
            "birthday\n",
            "Gorgeous\n",
            "Tobi\n",
            "happy\n",
            "birthday\n",
            "to\n",
            "you\n"
          ]
        }
      ]
    },
    {
      "cell_type": "code",
      "source": [
        "for letter in HBD:\n",
        "  print(letter)"
      ],
      "metadata": {
        "colab": {
          "base_uri": "https://localhost:8080/"
        },
        "id": "OpgzdVGRgScw",
        "outputId": "24683682-6838-42e6-f9cf-5d6f8d3f57e1"
      },
      "execution_count": 12,
      "outputs": [
        {
          "output_type": "stream",
          "name": "stdout",
          "text": [
            "happy\n",
            "birthday\n",
            "to\n",
            "you\n",
            "Gorgeous\n",
            "Tobi\n"
          ]
        }
      ]
    },
    {
      "cell_type": "markdown",
      "source": [
        "This has to be the easiest Quiz this semester!"
      ],
      "metadata": {
        "id": "t-a_M7Xchz2_"
      }
    }
  ]
}