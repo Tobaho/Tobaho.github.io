{
  "nbformat": 4,
  "nbformat_minor": 0,
  "metadata": {
    "colab": {
      "name": "Exam 3 ",
      "provenance": [],
      "authorship_tag": "ABX9TyORAOIM/EBAgnjnEBD/D7IT",
      "include_colab_link": true
    },
    "kernelspec": {
      "name": "python3",
      "display_name": "Python 3"
    },
    "language_info": {
      "name": "python"
    }
  },
  "cells": [
    {
      "cell_type": "markdown",
      "metadata": {
        "id": "view-in-github",
        "colab_type": "text"
      },
      "source": [
        "<a href=\"https://colab.research.google.com/github/Tobaho/Tobaho.github.io/blob/main/Exam_3.ipynb\" target=\"_parent\"><img src=\"https://colab.research.google.com/assets/colab-badge.svg\" alt=\"Open In Colab\"/></a>"
      ]
    },
    {
      "cell_type": "markdown",
      "source": [
        "#Exam 3 \n",
        "# Oluwatobi Afolabi\n",
        "#CPMSA 4313"
      ],
      "metadata": {
        "id": "0-rwVrPhibVG"
      }
    },
    {
      "cell_type": "code",
      "source": [
        "import pandas as pd\n",
        "import matplotlib.pyplot as plt\n",
        "import seaborn as sns\n",
        "df = pd.read_csv('https://raw.githubusercontent.com/nurfnick/Data_Viz/main/worldCupPlayer.csv')\n",
        "df.head()"
      ],
      "metadata": {
        "colab": {
          "base_uri": "https://localhost:8080/",
          "height": 206
        },
        "id": "WRmaLjxBjPtY",
        "outputId": "b095855f-68c2-409c-84db-29661dbd9862"
      },
      "execution_count": 12,
      "outputs": [
        {
          "output_type": "execute_result",
          "data": {
            "text/plain": [
              "   Unnamed: 0  Rank               player           club  age   Apps  Mins  \\\n",
              "0           0     1         Hakim Ziyech           Ajax   25     34  3043   \n",
              "1           2     2  Alireza Jahanbakhsh     AZ Alkmaar   24     33  2840   \n",
              "2           4     3       Hirving Lozano  PSV Eindhoven   22     29  2350   \n",
              "3           6    11         Lasse Schone           Ajax   32  27(3)  2350   \n",
              "4          10    25       Santiago Arias  PSV Eindhoven   26     30  2664   \n",
              "\n",
              "   Goals  Assists  Yel  Red  SpG    PS AerialsWon  MotM  Rating nationality  \n",
              "0      9       15    4    0  4.9  75.4        0.2     9    8.21     Morocco  \n",
              "1     21       12    3    0  4.3  73.4        0.7    14    8.20        Iran  \n",
              "2     17        8    4    2  3.4  75.3        0.6     8    7.90      Mexico  \n",
              "3     10        3    6    0  1.9  87.0        1.9     2    7.45     Denmark  \n",
              "4      3        6    5    0  1.5  82.3          1     2    7.25    Colombia  "
            ],
            "text/html": [
              "\n",
              "  <div id=\"df-652d4096-0c59-4cb7-a582-75544e7916c7\">\n",
              "    <div class=\"colab-df-container\">\n",
              "      <div>\n",
              "<style scoped>\n",
              "    .dataframe tbody tr th:only-of-type {\n",
              "        vertical-align: middle;\n",
              "    }\n",
              "\n",
              "    .dataframe tbody tr th {\n",
              "        vertical-align: top;\n",
              "    }\n",
              "\n",
              "    .dataframe thead th {\n",
              "        text-align: right;\n",
              "    }\n",
              "</style>\n",
              "<table border=\"1\" class=\"dataframe\">\n",
              "  <thead>\n",
              "    <tr style=\"text-align: right;\">\n",
              "      <th></th>\n",
              "      <th>Unnamed: 0</th>\n",
              "      <th>Rank</th>\n",
              "      <th>player</th>\n",
              "      <th>club</th>\n",
              "      <th>age</th>\n",
              "      <th>Apps</th>\n",
              "      <th>Mins</th>\n",
              "      <th>Goals</th>\n",
              "      <th>Assists</th>\n",
              "      <th>Yel</th>\n",
              "      <th>Red</th>\n",
              "      <th>SpG</th>\n",
              "      <th>PS</th>\n",
              "      <th>AerialsWon</th>\n",
              "      <th>MotM</th>\n",
              "      <th>Rating</th>\n",
              "      <th>nationality</th>\n",
              "    </tr>\n",
              "  </thead>\n",
              "  <tbody>\n",
              "    <tr>\n",
              "      <th>0</th>\n",
              "      <td>0</td>\n",
              "      <td>1</td>\n",
              "      <td>Hakim Ziyech</td>\n",
              "      <td>Ajax</td>\n",
              "      <td>25</td>\n",
              "      <td>34</td>\n",
              "      <td>3043</td>\n",
              "      <td>9</td>\n",
              "      <td>15</td>\n",
              "      <td>4</td>\n",
              "      <td>0</td>\n",
              "      <td>4.9</td>\n",
              "      <td>75.4</td>\n",
              "      <td>0.2</td>\n",
              "      <td>9</td>\n",
              "      <td>8.21</td>\n",
              "      <td>Morocco</td>\n",
              "    </tr>\n",
              "    <tr>\n",
              "      <th>1</th>\n",
              "      <td>2</td>\n",
              "      <td>2</td>\n",
              "      <td>Alireza Jahanbakhsh</td>\n",
              "      <td>AZ Alkmaar</td>\n",
              "      <td>24</td>\n",
              "      <td>33</td>\n",
              "      <td>2840</td>\n",
              "      <td>21</td>\n",
              "      <td>12</td>\n",
              "      <td>3</td>\n",
              "      <td>0</td>\n",
              "      <td>4.3</td>\n",
              "      <td>73.4</td>\n",
              "      <td>0.7</td>\n",
              "      <td>14</td>\n",
              "      <td>8.20</td>\n",
              "      <td>Iran</td>\n",
              "    </tr>\n",
              "    <tr>\n",
              "      <th>2</th>\n",
              "      <td>4</td>\n",
              "      <td>3</td>\n",
              "      <td>Hirving Lozano</td>\n",
              "      <td>PSV Eindhoven</td>\n",
              "      <td>22</td>\n",
              "      <td>29</td>\n",
              "      <td>2350</td>\n",
              "      <td>17</td>\n",
              "      <td>8</td>\n",
              "      <td>4</td>\n",
              "      <td>2</td>\n",
              "      <td>3.4</td>\n",
              "      <td>75.3</td>\n",
              "      <td>0.6</td>\n",
              "      <td>8</td>\n",
              "      <td>7.90</td>\n",
              "      <td>Mexico</td>\n",
              "    </tr>\n",
              "    <tr>\n",
              "      <th>3</th>\n",
              "      <td>6</td>\n",
              "      <td>11</td>\n",
              "      <td>Lasse Schone</td>\n",
              "      <td>Ajax</td>\n",
              "      <td>32</td>\n",
              "      <td>27(3)</td>\n",
              "      <td>2350</td>\n",
              "      <td>10</td>\n",
              "      <td>3</td>\n",
              "      <td>6</td>\n",
              "      <td>0</td>\n",
              "      <td>1.9</td>\n",
              "      <td>87.0</td>\n",
              "      <td>1.9</td>\n",
              "      <td>2</td>\n",
              "      <td>7.45</td>\n",
              "      <td>Denmark</td>\n",
              "    </tr>\n",
              "    <tr>\n",
              "      <th>4</th>\n",
              "      <td>10</td>\n",
              "      <td>25</td>\n",
              "      <td>Santiago Arias</td>\n",
              "      <td>PSV Eindhoven</td>\n",
              "      <td>26</td>\n",
              "      <td>30</td>\n",
              "      <td>2664</td>\n",
              "      <td>3</td>\n",
              "      <td>6</td>\n",
              "      <td>5</td>\n",
              "      <td>0</td>\n",
              "      <td>1.5</td>\n",
              "      <td>82.3</td>\n",
              "      <td>1</td>\n",
              "      <td>2</td>\n",
              "      <td>7.25</td>\n",
              "      <td>Colombia</td>\n",
              "    </tr>\n",
              "  </tbody>\n",
              "</table>\n",
              "</div>\n",
              "      <button class=\"colab-df-convert\" onclick=\"convertToInteractive('df-652d4096-0c59-4cb7-a582-75544e7916c7')\"\n",
              "              title=\"Convert this dataframe to an interactive table.\"\n",
              "              style=\"display:none;\">\n",
              "        \n",
              "  <svg xmlns=\"http://www.w3.org/2000/svg\" height=\"24px\"viewBox=\"0 0 24 24\"\n",
              "       width=\"24px\">\n",
              "    <path d=\"M0 0h24v24H0V0z\" fill=\"none\"/>\n",
              "    <path d=\"M18.56 5.44l.94 2.06.94-2.06 2.06-.94-2.06-.94-.94-2.06-.94 2.06-2.06.94zm-11 1L8.5 8.5l.94-2.06 2.06-.94-2.06-.94L8.5 2.5l-.94 2.06-2.06.94zm10 10l.94 2.06.94-2.06 2.06-.94-2.06-.94-.94-2.06-.94 2.06-2.06.94z\"/><path d=\"M17.41 7.96l-1.37-1.37c-.4-.4-.92-.59-1.43-.59-.52 0-1.04.2-1.43.59L10.3 9.45l-7.72 7.72c-.78.78-.78 2.05 0 2.83L4 21.41c.39.39.9.59 1.41.59.51 0 1.02-.2 1.41-.59l7.78-7.78 2.81-2.81c.8-.78.8-2.07 0-2.86zM5.41 20L4 18.59l7.72-7.72 1.47 1.35L5.41 20z\"/>\n",
              "  </svg>\n",
              "      </button>\n",
              "      \n",
              "  <style>\n",
              "    .colab-df-container {\n",
              "      display:flex;\n",
              "      flex-wrap:wrap;\n",
              "      gap: 12px;\n",
              "    }\n",
              "\n",
              "    .colab-df-convert {\n",
              "      background-color: #E8F0FE;\n",
              "      border: none;\n",
              "      border-radius: 50%;\n",
              "      cursor: pointer;\n",
              "      display: none;\n",
              "      fill: #1967D2;\n",
              "      height: 32px;\n",
              "      padding: 0 0 0 0;\n",
              "      width: 32px;\n",
              "    }\n",
              "\n",
              "    .colab-df-convert:hover {\n",
              "      background-color: #E2EBFA;\n",
              "      box-shadow: 0px 1px 2px rgba(60, 64, 67, 0.3), 0px 1px 3px 1px rgba(60, 64, 67, 0.15);\n",
              "      fill: #174EA6;\n",
              "    }\n",
              "\n",
              "    [theme=dark] .colab-df-convert {\n",
              "      background-color: #3B4455;\n",
              "      fill: #D2E3FC;\n",
              "    }\n",
              "\n",
              "    [theme=dark] .colab-df-convert:hover {\n",
              "      background-color: #434B5C;\n",
              "      box-shadow: 0px 1px 3px 1px rgba(0, 0, 0, 0.15);\n",
              "      filter: drop-shadow(0px 1px 2px rgba(0, 0, 0, 0.3));\n",
              "      fill: #FFFFFF;\n",
              "    }\n",
              "  </style>\n",
              "\n",
              "      <script>\n",
              "        const buttonEl =\n",
              "          document.querySelector('#df-652d4096-0c59-4cb7-a582-75544e7916c7 button.colab-df-convert');\n",
              "        buttonEl.style.display =\n",
              "          google.colab.kernel.accessAllowed ? 'block' : 'none';\n",
              "\n",
              "        async function convertToInteractive(key) {\n",
              "          const element = document.querySelector('#df-652d4096-0c59-4cb7-a582-75544e7916c7');\n",
              "          const dataTable =\n",
              "            await google.colab.kernel.invokeFunction('convertToInteractive',\n",
              "                                                     [key], {});\n",
              "          if (!dataTable) return;\n",
              "\n",
              "          const docLinkHtml = 'Like what you see? Visit the ' +\n",
              "            '<a target=\"_blank\" href=https://colab.research.google.com/notebooks/data_table.ipynb>data table notebook</a>'\n",
              "            + ' to learn more about interactive tables.';\n",
              "          element.innerHTML = '';\n",
              "          dataTable['output_type'] = 'display_data';\n",
              "          await google.colab.output.renderOutput(dataTable, element);\n",
              "          const docLink = document.createElement('div');\n",
              "          docLink.innerHTML = docLinkHtml;\n",
              "          element.appendChild(docLink);\n",
              "        }\n",
              "      </script>\n",
              "    </div>\n",
              "  </div>\n",
              "  "
            ]
          },
          "metadata": {},
          "execution_count": 12
        }
      ]
    },
    {
      "cell_type": "markdown",
      "source": [
        "##1a"
      ],
      "metadata": {
        "id": "tGUTmy5FjZjG"
      }
    },
    {
      "cell_type": "markdown",
      "source": [
        "My favorite club from this data has to be PSV Eindhoven and my favorite nationality has to be colombia. \n"
      ],
      "metadata": {
        "id": "hu9OY0Tvjb4f"
      }
    },
    {
      "cell_type": "markdown",
      "source": [
        "![Flag_of_Colombia.svg.webp](data:image/webp;base64,UklGRo4AAABXRUJQVlA4TIEAAAAvr8THABcgEEhUcpl/P7FgojX/L6oEAimOaJ/nP94Kg4G0bWZyJq/3LBH9z/Cf//znP//5z3/+85///Oc///nPf/7zn//85z//+c9//vOf//znP/9/2/Gf//znP//5z3/+85///Oc///k/Nst//vOf//znP//5z3/+85///Of/2AQA)"
      ],
      "metadata": {
        "id": "m6pF7ThKnv9Y"
      }
    },
    {
      "cell_type": "markdown",
      "source": [
        "![psv.png](data:image/png;base64,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)"
      ],
      "metadata": {
        "id": "KrdvFjtMkZ0a"
      }
    },
    {
      "cell_type": "markdown",
      "source": [
        "##1b"
      ],
      "metadata": {
        "id": "0XOSMSh_kl_i"
      }
    },
    {
      "cell_type": "markdown",
      "source": [
        "A table about my favorite club"
      ],
      "metadata": {
        "id": "WAKGLHWQmcdh"
      }
    },
    {
      "cell_type": "code",
      "source": [
        "PSV = df.loc[df['club']=='PSV Eindhoven']\n",
        "PSV = PSV.drop('club',1)\n",
        "PSV"
      ],
      "metadata": {
        "colab": {
          "base_uri": "https://localhost:8080/",
          "height": 166
        },
        "id": "o6Ws-LQImla-",
        "outputId": "8b66827a-4525-45eb-b9b3-8b3244af0484"
      },
      "execution_count": 13,
      "outputs": [
        {
          "output_type": "stream",
          "name": "stderr",
          "text": [
            "/usr/local/lib/python3.7/dist-packages/ipykernel_launcher.py:2: FutureWarning: In a future version of pandas all arguments of DataFrame.drop except for the argument 'labels' will be keyword-only\n",
            "  \n"
          ]
        },
        {
          "output_type": "execute_result",
          "data": {
            "text/plain": [
              "   Unnamed: 0  Rank          player  age Apps  Mins  Goals  Assists  Yel  Red  \\\n",
              "2           4     3  Hirving Lozano   22   29  2350     17        8    4    2   \n",
              "4          10    25  Santiago Arias   26   30  2664      3        6    5    0   \n",
              "\n",
              "   SpG    PS AerialsWon  MotM  Rating nationality  \n",
              "2  3.4  75.3        0.6     8    7.90      Mexico  \n",
              "4  1.5  82.3          1     2    7.25    Colombia  "
            ],
            "text/html": [
              "\n",
              "  <div id=\"df-e07ce882-0544-4972-9958-e0887d1f4b6c\">\n",
              "    <div class=\"colab-df-container\">\n",
              "      <div>\n",
              "<style scoped>\n",
              "    .dataframe tbody tr th:only-of-type {\n",
              "        vertical-align: middle;\n",
              "    }\n",
              "\n",
              "    .dataframe tbody tr th {\n",
              "        vertical-align: top;\n",
              "    }\n",
              "\n",
              "    .dataframe thead th {\n",
              "        text-align: right;\n",
              "    }\n",
              "</style>\n",
              "<table border=\"1\" class=\"dataframe\">\n",
              "  <thead>\n",
              "    <tr style=\"text-align: right;\">\n",
              "      <th></th>\n",
              "      <th>Unnamed: 0</th>\n",
              "      <th>Rank</th>\n",
              "      <th>player</th>\n",
              "      <th>age</th>\n",
              "      <th>Apps</th>\n",
              "      <th>Mins</th>\n",
              "      <th>Goals</th>\n",
              "      <th>Assists</th>\n",
              "      <th>Yel</th>\n",
              "      <th>Red</th>\n",
              "      <th>SpG</th>\n",
              "      <th>PS</th>\n",
              "      <th>AerialsWon</th>\n",
              "      <th>MotM</th>\n",
              "      <th>Rating</th>\n",
              "      <th>nationality</th>\n",
              "    </tr>\n",
              "  </thead>\n",
              "  <tbody>\n",
              "    <tr>\n",
              "      <th>2</th>\n",
              "      <td>4</td>\n",
              "      <td>3</td>\n",
              "      <td>Hirving Lozano</td>\n",
              "      <td>22</td>\n",
              "      <td>29</td>\n",
              "      <td>2350</td>\n",
              "      <td>17</td>\n",
              "      <td>8</td>\n",
              "      <td>4</td>\n",
              "      <td>2</td>\n",
              "      <td>3.4</td>\n",
              "      <td>75.3</td>\n",
              "      <td>0.6</td>\n",
              "      <td>8</td>\n",
              "      <td>7.90</td>\n",
              "      <td>Mexico</td>\n",
              "    </tr>\n",
              "    <tr>\n",
              "      <th>4</th>\n",
              "      <td>10</td>\n",
              "      <td>25</td>\n",
              "      <td>Santiago Arias</td>\n",
              "      <td>26</td>\n",
              "      <td>30</td>\n",
              "      <td>2664</td>\n",
              "      <td>3</td>\n",
              "      <td>6</td>\n",
              "      <td>5</td>\n",
              "      <td>0</td>\n",
              "      <td>1.5</td>\n",
              "      <td>82.3</td>\n",
              "      <td>1</td>\n",
              "      <td>2</td>\n",
              "      <td>7.25</td>\n",
              "      <td>Colombia</td>\n",
              "    </tr>\n",
              "  </tbody>\n",
              "</table>\n",
              "</div>\n",
              "      <button class=\"colab-df-convert\" onclick=\"convertToInteractive('df-e07ce882-0544-4972-9958-e0887d1f4b6c')\"\n",
              "              title=\"Convert this dataframe to an interactive table.\"\n",
              "              style=\"display:none;\">\n",
              "        \n",
              "  <svg xmlns=\"http://www.w3.org/2000/svg\" height=\"24px\"viewBox=\"0 0 24 24\"\n",
              "       width=\"24px\">\n",
              "    <path d=\"M0 0h24v24H0V0z\" fill=\"none\"/>\n",
              "    <path d=\"M18.56 5.44l.94 2.06.94-2.06 2.06-.94-2.06-.94-.94-2.06-.94 2.06-2.06.94zm-11 1L8.5 8.5l.94-2.06 2.06-.94-2.06-.94L8.5 2.5l-.94 2.06-2.06.94zm10 10l.94 2.06.94-2.06 2.06-.94-2.06-.94-.94-2.06-.94 2.06-2.06.94z\"/><path d=\"M17.41 7.96l-1.37-1.37c-.4-.4-.92-.59-1.43-.59-.52 0-1.04.2-1.43.59L10.3 9.45l-7.72 7.72c-.78.78-.78 2.05 0 2.83L4 21.41c.39.39.9.59 1.41.59.51 0 1.02-.2 1.41-.59l7.78-7.78 2.81-2.81c.8-.78.8-2.07 0-2.86zM5.41 20L4 18.59l7.72-7.72 1.47 1.35L5.41 20z\"/>\n",
              "  </svg>\n",
              "      </button>\n",
              "      \n",
              "  <style>\n",
              "    .colab-df-container {\n",
              "      display:flex;\n",
              "      flex-wrap:wrap;\n",
              "      gap: 12px;\n",
              "    }\n",
              "\n",
              "    .colab-df-convert {\n",
              "      background-color: #E8F0FE;\n",
              "      border: none;\n",
              "      border-radius: 50%;\n",
              "      cursor: pointer;\n",
              "      display: none;\n",
              "      fill: #1967D2;\n",
              "      height: 32px;\n",
              "      padding: 0 0 0 0;\n",
              "      width: 32px;\n",
              "    }\n",
              "\n",
              "    .colab-df-convert:hover {\n",
              "      background-color: #E2EBFA;\n",
              "      box-shadow: 0px 1px 2px rgba(60, 64, 67, 0.3), 0px 1px 3px 1px rgba(60, 64, 67, 0.15);\n",
              "      fill: #174EA6;\n",
              "    }\n",
              "\n",
              "    [theme=dark] .colab-df-convert {\n",
              "      background-color: #3B4455;\n",
              "      fill: #D2E3FC;\n",
              "    }\n",
              "\n",
              "    [theme=dark] .colab-df-convert:hover {\n",
              "      background-color: #434B5C;\n",
              "      box-shadow: 0px 1px 3px 1px rgba(0, 0, 0, 0.15);\n",
              "      filter: drop-shadow(0px 1px 2px rgba(0, 0, 0, 0.3));\n",
              "      fill: #FFFFFF;\n",
              "    }\n",
              "  </style>\n",
              "\n",
              "      <script>\n",
              "        const buttonEl =\n",
              "          document.querySelector('#df-e07ce882-0544-4972-9958-e0887d1f4b6c button.colab-df-convert');\n",
              "        buttonEl.style.display =\n",
              "          google.colab.kernel.accessAllowed ? 'block' : 'none';\n",
              "\n",
              "        async function convertToInteractive(key) {\n",
              "          const element = document.querySelector('#df-e07ce882-0544-4972-9958-e0887d1f4b6c');\n",
              "          const dataTable =\n",
              "            await google.colab.kernel.invokeFunction('convertToInteractive',\n",
              "                                                     [key], {});\n",
              "          if (!dataTable) return;\n",
              "\n",
              "          const docLinkHtml = 'Like what you see? Visit the ' +\n",
              "            '<a target=\"_blank\" href=https://colab.research.google.com/notebooks/data_table.ipynb>data table notebook</a>'\n",
              "            + ' to learn more about interactive tables.';\n",
              "          element.innerHTML = '';\n",
              "          dataTable['output_type'] = 'display_data';\n",
              "          await google.colab.output.renderOutput(dataTable, element);\n",
              "          const docLink = document.createElement('div');\n",
              "          docLink.innerHTML = docLinkHtml;\n",
              "          element.appendChild(docLink);\n",
              "        }\n",
              "      </script>\n",
              "    </div>\n",
              "  </div>\n",
              "  "
            ]
          },
          "metadata": {},
          "execution_count": 13
        }
      ]
    },
    {
      "cell_type": "markdown",
      "source": [
        "The data from my favorite club appears to be few, so i made a table of data from my favorite nationality. "
      ],
      "metadata": {
        "id": "fsN-DQR0nz1T"
      }
    },
    {
      "cell_type": "code",
      "source": [
        "Colombia = df.loc[df['nationality']=='Colombia']\n",
        "Colombia = Colombia.drop('nationality',1)\n",
        "Colombia"
      ],
      "metadata": {
        "colab": {
          "base_uri": "https://localhost:8080/",
          "height": 543
        },
        "id": "XaqvuRacnRwy",
        "outputId": "15561085-7bcd-4dab-e27f-f3b1b368939d"
      },
      "execution_count": 14,
      "outputs": [
        {
          "output_type": "stream",
          "name": "stderr",
          "text": [
            "/usr/local/lib/python3.7/dist-packages/ipykernel_launcher.py:2: FutureWarning: In a future version of pandas all arguments of DataFrame.drop except for the argument 'labels' will be keyword-only\n",
            "  \n"
          ]
        },
        {
          "output_type": "execute_result",
          "data": {
            "text/plain": [
              "     Unnamed: 0  Rank            player           club  age   Apps  Mins  \\\n",
              "4            10    25    Santiago Arias  PSV Eindhoven   26     30  2664   \n",
              "119         231   235   Cristian Zapata       AC Milan   31      4   360   \n",
              "120         233   240      David Ospina        Arsenal   29     10   900   \n",
              "161         315   501      Carlos Bacca     Villarreal   31      6   484   \n",
              "162         317    70      Carlos Bacca     Villarreal   31  30(5)  2512   \n",
              "227         438    62   Jefferson Lerma        Levante   23  25(1)  2138   \n",
              "251         486   155      Johan Mojica         Girona   25  22(8)  2132   \n",
              "273         529     9       Frank Fabra   Boca Juniors   27     22  1936   \n",
              "274         530    17    Wilmar Barrios   Boca Juniors   24     23  1991   \n",
              "280         542     1   James Rodriguez  Bayern Munich   26  19(4)  1627   \n",
              "281         543   110   James Rodriguez  Bayern Munich   26   8(4)   779   \n",
              "468         896    78  Davinson Sanchez      Tottenham   21  29(2)  2535   \n",
              "469         898   236  Davinson Sanchez      Tottenham   21      8   720   \n",
              "505         970   212    Jose Izquierdo       Brighton   25  23(9)  1989   \n",
              "\n",
              "     Goals  Assists  Yel  Red  SpG    PS AerialsWon  MotM  Rating  \n",
              "4        3        6    5    0  1.5  82.3          1     2    7.25  \n",
              "119      0        0    0    0  0.5  89.1        2.5     0    6.94  \n",
              "120      0        0    0    0    -  74.0        0.1     1    6.94  \n",
              "161      2        1    0    0  2.7  75.5        0.7     0    6.60  \n",
              "162     15        6    9    0  2.1  73.8        0.7     3    6.95  \n",
              "227      0        1   16    0    1  81.7        3.4     0    6.99  \n",
              "251      0        4    6    0  0.7  77.8        0.9     1    6.74  \n",
              "273      2        3    6    0  0.5  83.8        1.4     2    7.45  \n",
              "274      1        0    6    0  0.2  84.4          2     1    7.36  \n",
              "280      7       11    2    0  1.7  90.0        0.3     5    7.63  \n",
              "281      1        2    1    0  1.7  89.8          -     0    7.05  \n",
              "468      0        0    1    1  0.3  89.4        2.4     0    6.94  \n",
              "469      0        0    0    0  0.4  89.7        1.3     0    6.74  \n",
              "505      5        3    2    0  1.6  78.4        0.5     0    6.62  "
            ],
            "text/html": [
              "\n",
              "  <div id=\"df-9206d5fe-657e-40b5-a73d-cc590bcab766\">\n",
              "    <div class=\"colab-df-container\">\n",
              "      <div>\n",
              "<style scoped>\n",
              "    .dataframe tbody tr th:only-of-type {\n",
              "        vertical-align: middle;\n",
              "    }\n",
              "\n",
              "    .dataframe tbody tr th {\n",
              "        vertical-align: top;\n",
              "    }\n",
              "\n",
              "    .dataframe thead th {\n",
              "        text-align: right;\n",
              "    }\n",
              "</style>\n",
              "<table border=\"1\" class=\"dataframe\">\n",
              "  <thead>\n",
              "    <tr style=\"text-align: right;\">\n",
              "      <th></th>\n",
              "      <th>Unnamed: 0</th>\n",
              "      <th>Rank</th>\n",
              "      <th>player</th>\n",
              "      <th>club</th>\n",
              "      <th>age</th>\n",
              "      <th>Apps</th>\n",
              "      <th>Mins</th>\n",
              "      <th>Goals</th>\n",
              "      <th>Assists</th>\n",
              "      <th>Yel</th>\n",
              "      <th>Red</th>\n",
              "      <th>SpG</th>\n",
              "      <th>PS</th>\n",
              "      <th>AerialsWon</th>\n",
              "      <th>MotM</th>\n",
              "      <th>Rating</th>\n",
              "    </tr>\n",
              "  </thead>\n",
              "  <tbody>\n",
              "    <tr>\n",
              "      <th>4</th>\n",
              "      <td>10</td>\n",
              "      <td>25</td>\n",
              "      <td>Santiago Arias</td>\n",
              "      <td>PSV Eindhoven</td>\n",
              "      <td>26</td>\n",
              "      <td>30</td>\n",
              "      <td>2664</td>\n",
              "      <td>3</td>\n",
              "      <td>6</td>\n",
              "      <td>5</td>\n",
              "      <td>0</td>\n",
              "      <td>1.5</td>\n",
              "      <td>82.3</td>\n",
              "      <td>1</td>\n",
              "      <td>2</td>\n",
              "      <td>7.25</td>\n",
              "    </tr>\n",
              "    <tr>\n",
              "      <th>119</th>\n",
              "      <td>231</td>\n",
              "      <td>235</td>\n",
              "      <td>Cristian Zapata</td>\n",
              "      <td>AC Milan</td>\n",
              "      <td>31</td>\n",
              "      <td>4</td>\n",
              "      <td>360</td>\n",
              "      <td>0</td>\n",
              "      <td>0</td>\n",
              "      <td>0</td>\n",
              "      <td>0</td>\n",
              "      <td>0.5</td>\n",
              "      <td>89.1</td>\n",
              "      <td>2.5</td>\n",
              "      <td>0</td>\n",
              "      <td>6.94</td>\n",
              "    </tr>\n",
              "    <tr>\n",
              "      <th>120</th>\n",
              "      <td>233</td>\n",
              "      <td>240</td>\n",
              "      <td>David Ospina</td>\n",
              "      <td>Arsenal</td>\n",
              "      <td>29</td>\n",
              "      <td>10</td>\n",
              "      <td>900</td>\n",
              "      <td>0</td>\n",
              "      <td>0</td>\n",
              "      <td>0</td>\n",
              "      <td>0</td>\n",
              "      <td>-</td>\n",
              "      <td>74.0</td>\n",
              "      <td>0.1</td>\n",
              "      <td>1</td>\n",
              "      <td>6.94</td>\n",
              "    </tr>\n",
              "    <tr>\n",
              "      <th>161</th>\n",
              "      <td>315</td>\n",
              "      <td>501</td>\n",
              "      <td>Carlos Bacca</td>\n",
              "      <td>Villarreal</td>\n",
              "      <td>31</td>\n",
              "      <td>6</td>\n",
              "      <td>484</td>\n",
              "      <td>2</td>\n",
              "      <td>1</td>\n",
              "      <td>0</td>\n",
              "      <td>0</td>\n",
              "      <td>2.7</td>\n",
              "      <td>75.5</td>\n",
              "      <td>0.7</td>\n",
              "      <td>0</td>\n",
              "      <td>6.60</td>\n",
              "    </tr>\n",
              "    <tr>\n",
              "      <th>162</th>\n",
              "      <td>317</td>\n",
              "      <td>70</td>\n",
              "      <td>Carlos Bacca</td>\n",
              "      <td>Villarreal</td>\n",
              "      <td>31</td>\n",
              "      <td>30(5)</td>\n",
              "      <td>2512</td>\n",
              "      <td>15</td>\n",
              "      <td>6</td>\n",
              "      <td>9</td>\n",
              "      <td>0</td>\n",
              "      <td>2.1</td>\n",
              "      <td>73.8</td>\n",
              "      <td>0.7</td>\n",
              "      <td>3</td>\n",
              "      <td>6.95</td>\n",
              "    </tr>\n",
              "    <tr>\n",
              "      <th>227</th>\n",
              "      <td>438</td>\n",
              "      <td>62</td>\n",
              "      <td>Jefferson Lerma</td>\n",
              "      <td>Levante</td>\n",
              "      <td>23</td>\n",
              "      <td>25(1)</td>\n",
              "      <td>2138</td>\n",
              "      <td>0</td>\n",
              "      <td>1</td>\n",
              "      <td>16</td>\n",
              "      <td>0</td>\n",
              "      <td>1</td>\n",
              "      <td>81.7</td>\n",
              "      <td>3.4</td>\n",
              "      <td>0</td>\n",
              "      <td>6.99</td>\n",
              "    </tr>\n",
              "    <tr>\n",
              "      <th>251</th>\n",
              "      <td>486</td>\n",
              "      <td>155</td>\n",
              "      <td>Johan Mojica</td>\n",
              "      <td>Girona</td>\n",
              "      <td>25</td>\n",
              "      <td>22(8)</td>\n",
              "      <td>2132</td>\n",
              "      <td>0</td>\n",
              "      <td>4</td>\n",
              "      <td>6</td>\n",
              "      <td>0</td>\n",
              "      <td>0.7</td>\n",
              "      <td>77.8</td>\n",
              "      <td>0.9</td>\n",
              "      <td>1</td>\n",
              "      <td>6.74</td>\n",
              "    </tr>\n",
              "    <tr>\n",
              "      <th>273</th>\n",
              "      <td>529</td>\n",
              "      <td>9</td>\n",
              "      <td>Frank Fabra</td>\n",
              "      <td>Boca Juniors</td>\n",
              "      <td>27</td>\n",
              "      <td>22</td>\n",
              "      <td>1936</td>\n",
              "      <td>2</td>\n",
              "      <td>3</td>\n",
              "      <td>6</td>\n",
              "      <td>0</td>\n",
              "      <td>0.5</td>\n",
              "      <td>83.8</td>\n",
              "      <td>1.4</td>\n",
              "      <td>2</td>\n",
              "      <td>7.45</td>\n",
              "    </tr>\n",
              "    <tr>\n",
              "      <th>274</th>\n",
              "      <td>530</td>\n",
              "      <td>17</td>\n",
              "      <td>Wilmar Barrios</td>\n",
              "      <td>Boca Juniors</td>\n",
              "      <td>24</td>\n",
              "      <td>23</td>\n",
              "      <td>1991</td>\n",
              "      <td>1</td>\n",
              "      <td>0</td>\n",
              "      <td>6</td>\n",
              "      <td>0</td>\n",
              "      <td>0.2</td>\n",
              "      <td>84.4</td>\n",
              "      <td>2</td>\n",
              "      <td>1</td>\n",
              "      <td>7.36</td>\n",
              "    </tr>\n",
              "    <tr>\n",
              "      <th>280</th>\n",
              "      <td>542</td>\n",
              "      <td>1</td>\n",
              "      <td>James Rodriguez</td>\n",
              "      <td>Bayern Munich</td>\n",
              "      <td>26</td>\n",
              "      <td>19(4)</td>\n",
              "      <td>1627</td>\n",
              "      <td>7</td>\n",
              "      <td>11</td>\n",
              "      <td>2</td>\n",
              "      <td>0</td>\n",
              "      <td>1.7</td>\n",
              "      <td>90.0</td>\n",
              "      <td>0.3</td>\n",
              "      <td>5</td>\n",
              "      <td>7.63</td>\n",
              "    </tr>\n",
              "    <tr>\n",
              "      <th>281</th>\n",
              "      <td>543</td>\n",
              "      <td>110</td>\n",
              "      <td>James Rodriguez</td>\n",
              "      <td>Bayern Munich</td>\n",
              "      <td>26</td>\n",
              "      <td>8(4)</td>\n",
              "      <td>779</td>\n",
              "      <td>1</td>\n",
              "      <td>2</td>\n",
              "      <td>1</td>\n",
              "      <td>0</td>\n",
              "      <td>1.7</td>\n",
              "      <td>89.8</td>\n",
              "      <td>-</td>\n",
              "      <td>0</td>\n",
              "      <td>7.05</td>\n",
              "    </tr>\n",
              "    <tr>\n",
              "      <th>468</th>\n",
              "      <td>896</td>\n",
              "      <td>78</td>\n",
              "      <td>Davinson Sanchez</td>\n",
              "      <td>Tottenham</td>\n",
              "      <td>21</td>\n",
              "      <td>29(2)</td>\n",
              "      <td>2535</td>\n",
              "      <td>0</td>\n",
              "      <td>0</td>\n",
              "      <td>1</td>\n",
              "      <td>1</td>\n",
              "      <td>0.3</td>\n",
              "      <td>89.4</td>\n",
              "      <td>2.4</td>\n",
              "      <td>0</td>\n",
              "      <td>6.94</td>\n",
              "    </tr>\n",
              "    <tr>\n",
              "      <th>469</th>\n",
              "      <td>898</td>\n",
              "      <td>236</td>\n",
              "      <td>Davinson Sanchez</td>\n",
              "      <td>Tottenham</td>\n",
              "      <td>21</td>\n",
              "      <td>8</td>\n",
              "      <td>720</td>\n",
              "      <td>0</td>\n",
              "      <td>0</td>\n",
              "      <td>0</td>\n",
              "      <td>0</td>\n",
              "      <td>0.4</td>\n",
              "      <td>89.7</td>\n",
              "      <td>1.3</td>\n",
              "      <td>0</td>\n",
              "      <td>6.74</td>\n",
              "    </tr>\n",
              "    <tr>\n",
              "      <th>505</th>\n",
              "      <td>970</td>\n",
              "      <td>212</td>\n",
              "      <td>Jose Izquierdo</td>\n",
              "      <td>Brighton</td>\n",
              "      <td>25</td>\n",
              "      <td>23(9)</td>\n",
              "      <td>1989</td>\n",
              "      <td>5</td>\n",
              "      <td>3</td>\n",
              "      <td>2</td>\n",
              "      <td>0</td>\n",
              "      <td>1.6</td>\n",
              "      <td>78.4</td>\n",
              "      <td>0.5</td>\n",
              "      <td>0</td>\n",
              "      <td>6.62</td>\n",
              "    </tr>\n",
              "  </tbody>\n",
              "</table>\n",
              "</div>\n",
              "      <button class=\"colab-df-convert\" onclick=\"convertToInteractive('df-9206d5fe-657e-40b5-a73d-cc590bcab766')\"\n",
              "              title=\"Convert this dataframe to an interactive table.\"\n",
              "              style=\"display:none;\">\n",
              "        \n",
              "  <svg xmlns=\"http://www.w3.org/2000/svg\" height=\"24px\"viewBox=\"0 0 24 24\"\n",
              "       width=\"24px\">\n",
              "    <path d=\"M0 0h24v24H0V0z\" fill=\"none\"/>\n",
              "    <path d=\"M18.56 5.44l.94 2.06.94-2.06 2.06-.94-2.06-.94-.94-2.06-.94 2.06-2.06.94zm-11 1L8.5 8.5l.94-2.06 2.06-.94-2.06-.94L8.5 2.5l-.94 2.06-2.06.94zm10 10l.94 2.06.94-2.06 2.06-.94-2.06-.94-.94-2.06-.94 2.06-2.06.94z\"/><path d=\"M17.41 7.96l-1.37-1.37c-.4-.4-.92-.59-1.43-.59-.52 0-1.04.2-1.43.59L10.3 9.45l-7.72 7.72c-.78.78-.78 2.05 0 2.83L4 21.41c.39.39.9.59 1.41.59.51 0 1.02-.2 1.41-.59l7.78-7.78 2.81-2.81c.8-.78.8-2.07 0-2.86zM5.41 20L4 18.59l7.72-7.72 1.47 1.35L5.41 20z\"/>\n",
              "  </svg>\n",
              "      </button>\n",
              "      \n",
              "  <style>\n",
              "    .colab-df-container {\n",
              "      display:flex;\n",
              "      flex-wrap:wrap;\n",
              "      gap: 12px;\n",
              "    }\n",
              "\n",
              "    .colab-df-convert {\n",
              "      background-color: #E8F0FE;\n",
              "      border: none;\n",
              "      border-radius: 50%;\n",
              "      cursor: pointer;\n",
              "      display: none;\n",
              "      fill: #1967D2;\n",
              "      height: 32px;\n",
              "      padding: 0 0 0 0;\n",
              "      width: 32px;\n",
              "    }\n",
              "\n",
              "    .colab-df-convert:hover {\n",
              "      background-color: #E2EBFA;\n",
              "      box-shadow: 0px 1px 2px rgba(60, 64, 67, 0.3), 0px 1px 3px 1px rgba(60, 64, 67, 0.15);\n",
              "      fill: #174EA6;\n",
              "    }\n",
              "\n",
              "    [theme=dark] .colab-df-convert {\n",
              "      background-color: #3B4455;\n",
              "      fill: #D2E3FC;\n",
              "    }\n",
              "\n",
              "    [theme=dark] .colab-df-convert:hover {\n",
              "      background-color: #434B5C;\n",
              "      box-shadow: 0px 1px 3px 1px rgba(0, 0, 0, 0.15);\n",
              "      filter: drop-shadow(0px 1px 2px rgba(0, 0, 0, 0.3));\n",
              "      fill: #FFFFFF;\n",
              "    }\n",
              "  </style>\n",
              "\n",
              "      <script>\n",
              "        const buttonEl =\n",
              "          document.querySelector('#df-9206d5fe-657e-40b5-a73d-cc590bcab766 button.colab-df-convert');\n",
              "        buttonEl.style.display =\n",
              "          google.colab.kernel.accessAllowed ? 'block' : 'none';\n",
              "\n",
              "        async function convertToInteractive(key) {\n",
              "          const element = document.querySelector('#df-9206d5fe-657e-40b5-a73d-cc590bcab766');\n",
              "          const dataTable =\n",
              "            await google.colab.kernel.invokeFunction('convertToInteractive',\n",
              "                                                     [key], {});\n",
              "          if (!dataTable) return;\n",
              "\n",
              "          const docLinkHtml = 'Like what you see? Visit the ' +\n",
              "            '<a target=\"_blank\" href=https://colab.research.google.com/notebooks/data_table.ipynb>data table notebook</a>'\n",
              "            + ' to learn more about interactive tables.';\n",
              "          element.innerHTML = '';\n",
              "          dataTable['output_type'] = 'display_data';\n",
              "          await google.colab.output.renderOutput(dataTable, element);\n",
              "          const docLink = document.createElement('div');\n",
              "          docLink.innerHTML = docLinkHtml;\n",
              "          element.appendChild(docLink);\n",
              "        }\n",
              "      </script>\n",
              "    </div>\n",
              "  </div>\n",
              "  "
            ]
          },
          "metadata": {},
          "execution_count": 14
        }
      ]
    },
    {
      "cell_type": "markdown",
      "source": [
        "##1c \n",
        "\n"
      ],
      "metadata": {
        "id": "KVbi3zn_oEK-"
      }
    },
    {
      "cell_type": "markdown",
      "source": [
        "Create a histogram of goals"
      ],
      "metadata": {
        "id": "Q6yyu9oDor1m"
      }
    },
    {
      "cell_type": "code",
      "source": [
        "ax = df.Goals.hist(bins = 30)\n",
        "ax.set(title = \"Histogram of Goals\")\n",
        "plt.show()"
      ],
      "metadata": {
        "colab": {
          "base_uri": "https://localhost:8080/",
          "height": 281
        },
        "id": "By2_FZeIocO7",
        "outputId": "fa782c31-98aa-4cc1-f3c2-4c70213c0b73"
      },
      "execution_count": 15,
      "outputs": [
        {
          "output_type": "display_data",
          "data": {
            "text/plain": [
              "<Figure size 432x288 with 1 Axes>"
            ],
            "image/png": "[encoded data removed]"
          },
          "metadata": {
            "needs_background": "light"
          }
        }
      ]
    },
    {
      "cell_type": "markdown",
      "source": [
        "##1d"
      ],
      "metadata": {
        "id": "3KtkETjMpF6o"
      }
    },
    {
      "cell_type": "markdown",
      "source": [
        "Create aa histogram goals and assist on the same axis"
      ],
      "metadata": {
        "id": "XW_PBNo6pHS-"
      }
    },
    {
      "cell_type": "code",
      "source": [
        "ax = sns.histplot(data = [df['Goals'],df['Assists']], alpha = .5, bins = 30)\n",
        "ax.set(title = \"Goals and Assists\")"
      ],
      "metadata": {
        "colab": {
          "base_uri": "https://localhost:8080/",
          "height": 298
        },
        "id": "KVl92i5Epgh4",
        "outputId": "704e673e-ef93-413c-c4e6-f0b73ddee8a3"
      },
      "execution_count": 21,
      "outputs": [
        {
          "output_type": "execute_result",
          "data": {
            "text/plain": [
              "[Text(0.5, 1.0, 'Goals and Assists')]"
            ]
          },
          "metadata": {},
          "execution_count": 21
        },
        {
          "output_type": "display_data",
          "data": {
            "text/plain": [
              "<Figure size 432x288 with 1 Axes>"
            ],
            "image/png": "[encoded data removed]"
          },
          "metadata": {
            "needs_background": "light"
          }
        }
      ]
    },
    {
      "cell_type": "markdown",
      "source": [
        "## 1e"
      ],
      "metadata": {
        "id": "U3vNeKO5r6XM"
      }
    },
    {
      "cell_type": "markdown",
      "source": [
        " Create a barchart for most goals scored by nationality."
      ],
      "metadata": {
        "id": "VVnJ02-2sA_J"
      }
    },
    {
      "cell_type": "code",
      "source": [
        "ax = df.groupby('nationality').Goals.agg('max').plot(kind = 'bar', title = 'Goals scored by nationality' )"
      ],
      "metadata": {
        "colab": {
          "base_uri": "https://localhost:8080/",
          "height": 344
        },
        "id": "tf4mbCT4sUkS",
        "outputId": "381efd46-db28-4b21-dac5-5d63c1ed0869"
      },
      "execution_count": 24,
      "outputs": [
        {
          "output_type": "display_data",
          "data": {
            "text/plain": [
              "<Figure size 432x288 with 1 Axes>"
            ],
            "image/png": "[encoded data removed]"
          },
          "metadata": {
            "needs_background": "light"
          }
        }
      ]
    },
    {
      "cell_type": "markdown",
      "source": [
        "Argentina has the highest goal, while Costta rica has the least goal. "
      ],
      "metadata": {
        "id": "-1kQERmPtCwz"
      }
    },
    {
      "cell_type": "markdown",
      "source": [
        "##1f"
      ],
      "metadata": {
        "id": "NlqhbfCutSlk"
      }
    },
    {
      "cell_type": "markdown",
      "source": [
        "Create a boxplot of ‘Yel’ (yellow cards) by nationality.\n"
      ],
      "metadata": {
        "id": "oS4G53gZtUVy"
      }
    },
    {
      "cell_type": "code",
      "source": [
        "ax= sns.boxplot(data = df, x = 'Yel', y = 'nationality')\n",
        "ax.set(title = \"Yellow cards by nationality\")"
      ],
      "metadata": {
        "colab": {
          "base_uri": "https://localhost:8080/",
          "height": 312
        },
        "id": "9POIPR85tyfw",
        "outputId": "d7839784-9a03-467e-968e-e17e0cf2e486"
      },
      "execution_count": 31,
      "outputs": [
        {
          "output_type": "execute_result",
          "data": {
            "text/plain": [
              "[Text(0.5, 1.0, 'Yellow cards by nationality')]"
            ]
          },
          "metadata": {},
          "execution_count": 31
        },
        {
          "output_type": "display_data",
          "data": {
            "text/plain": [
              "<Figure size 432x288 with 1 Axes>"
            ],
            "image/png": "[encoded data removed]"
          },
          "metadata": {
            "needs_background": "light"
          }
        }
      ]
    },
    {
      "cell_type": "markdown",
      "source": [
        "##1g"
      ],
      "metadata": {
        "id": "VCMZ6FXzvHeT"
      }
    },
    {
      "cell_type": "markdown",
      "source": [
        " Create ‘Goals’ and ‘Assists’ as scatter"
      ],
      "metadata": {
        "id": "BTonWN_mvI7K"
      }
    },
    {
      "cell_type": "code",
      "source": [
        "df['PSV'] = [0]*len(df['club'])\n",
        "for l in range(0,len(df['club']),1):\n",
        "  if df['club'][l] == 'PSV Eindhoven':\n",
        "    df['PSV'][l] = 'PSV Eindhoven\t'\n",
        "  else:\n",
        "    df['PSV'][l] = 'Not PSV'"
      ],
      "metadata": {
        "colab": {
          "base_uri": "https://localhost:8080/"
        },
        "id": "OCWtG9XuxXwF",
        "outputId": "cacdf0e1-4b02-4af1-9856-b91806d2ab4a"
      },
      "execution_count": 38,
      "outputs": [
        {
          "output_type": "stream",
          "name": "stderr",
          "text": [
            "/usr/local/lib/python3.7/dist-packages/ipykernel_launcher.py:6: SettingWithCopyWarning: \n",
            "A value is trying to be set on a copy of a slice from a DataFrame\n",
            "\n",
            "See the caveats in the documentation: https://pandas.pydata.org/pandas-docs/stable/user_guide/indexing.html#returning-a-view-versus-a-copy\n",
            "  \n",
            "/usr/local/lib/python3.7/dist-packages/pandas/core/indexing.py:1732: SettingWithCopyWarning: \n",
            "A value is trying to be set on a copy of a slice from a DataFrame\n",
            "\n",
            "See the caveats in the documentation: https://pandas.pydata.org/pandas-docs/stable/user_guide/indexing.html#returning-a-view-versus-a-copy\n",
            "  self._setitem_single_block(indexer, value, name)\n"
          ]
        }
      ]
    },
    {
      "cell_type": "code",
      "source": [
        "ax = sns.scatterplot(data = df, x = 'Goals', y = 'Assists', hue = 'PSV')\n",
        "ax.set(title = \"Scatter of Goals and Assists\")"
      ],
      "metadata": {
        "colab": {
          "base_uri": "https://localhost:8080/",
          "height": 365
        },
        "id": "lRNjE79DvOIk",
        "outputId": "2cd9d2ba-840b-4095-a013-c295716e965b"
      },
      "execution_count": 39,
      "outputs": [
        {
          "output_type": "execute_result",
          "data": {
            "text/plain": [
              "[Text(0.5, 1.0, 'Scatter')]"
            ]
          },
          "metadata": {},
          "execution_count": 39
        },
        {
          "output_type": "stream",
          "name": "stderr",
          "text": [
            "/usr/local/lib/python3.7/dist-packages/matplotlib/backends/backend_agg.py:214: RuntimeWarning: Glyph 9 missing from current font.\n",
            "  font.set_text(s, 0.0, flags=flags)\n",
            "/usr/local/lib/python3.7/dist-packages/matplotlib/backends/backend_agg.py:183: RuntimeWarning: Glyph 9 missing from current font.\n",
            "  font.set_text(s, 0, flags=flags)\n"
          ]
        },
        {
          "output_type": "display_data",
          "data": {
            "text/plain": [
              "<Figure size 432x288 with 1 Axes>"
            ],
            "image/png": "[encoded data removed]"
          },
          "metadata": {
            "needs_background": "light"
          }
        }
      ]
    },
    {
      "cell_type": "markdown",
      "source": [
        "This scatter plot shows that players not in PSV Eindhoven\thad goals between 0- 35 and  assists between 0- 16. While PSV Eindhoven had goal between 17 and 18, 18 most likely and an assists of 8. "
      ],
      "metadata": {
        "id": "DRPe_bn5yYLx"
      }
    },
    {
      "cell_type": "markdown",
      "source": [
        "##1h"
      ],
      "metadata": {
        "id": "CAmcVvCczP6w"
      }
    },
    {
      "cell_type": "markdown",
      "source": [
        "Create stacked barplot of goals and assists of French National Team. "
      ],
      "metadata": {
        "id": "MJD4Jc8SzU80"
      }
    },
    {
      "cell_type": "code",
      "source": [
        "FNT = df.loc[df['nationality']=='France']\n",
        "FNT = FNT.drop('nationality',1)\n"
      ],
      "metadata": {
        "colab": {
          "base_uri": "https://localhost:8080/"
        },
        "id": "sKnkhW_i0whZ",
        "outputId": "b7f3ce80-5eb2-4e14-fe7b-183e7e1b2b63"
      },
      "execution_count": 42,
      "outputs": [
        {
          "output_type": "stream",
          "name": "stderr",
          "text": [
            "/usr/local/lib/python3.7/dist-packages/ipykernel_launcher.py:2: FutureWarning: In a future version of pandas all arguments of DataFrame.drop except for the argument 'labels' will be keyword-only\n",
            "  \n"
          ]
        }
      ]
    },
    {
      "cell_type": "markdown",
      "source": [
        "FNT means French national team. "
      ],
      "metadata": {
        "id": "cBa4a8NG1Pgz"
      }
    },
    {
      "cell_type": "code",
      "source": [
        "FNT[['Goals','player', 'Assists']].set_index('player').plot(kind = 'bar', stacked = True, title = 'Goals and Assists of French National Team')"
      ],
      "metadata": {
        "colab": {
          "base_uri": "https://localhost:8080/",
          "height": 398
        },
        "id": "-1MHkjdcz-hi",
        "outputId": "0ecdc41b-11c4-48e2-f63a-952eb8b4fe9b"
      },
      "execution_count": 46,
      "outputs": [
        {
          "output_type": "execute_result",
          "data": {
            "text/plain": [
              "<matplotlib.axes._subplots.AxesSubplot at 0x7f53d2244d50>"
            ]
          },
          "metadata": {},
          "execution_count": 46
        },
        {
          "output_type": "display_data",
          "data": {
            "text/plain": [
              "<Figure size 432x288 with 1 Axes>"
            ],
            "image/png": "[encoded data removed]"
          },
          "metadata": {
            "needs_background": "light"
          }
        }
      ]
    },
    {
      "cell_type": "markdown",
      "source": [
        "I think it's appropriate to stack goals and assists so that one can see the importance of a player. From the above stacked bar plot, one can see that Florian thauvin had the highest goal and probably a good player/assest to the French national team. "
      ],
      "metadata": {
        "id": "8iKakUil2MJV"
      }
    },
    {
      "cell_type": "markdown",
      "source": [
        "##1i"
      ],
      "metadata": {
        "id": "aKcvFrfy3BC2"
      }
    },
    {
      "cell_type": "markdown",
      "source": [
        "Create a correlation heatmap of the entire dataset."
      ],
      "metadata": {
        "id": "1tU_XQKX4HKy"
      }
    },
    {
      "cell_type": "code",
      "source": [
        "ax = sns.heatmap(df.corr(),vmin = -1)\n",
        "ax.set(title = 'Heatmap of Dataset')"
      ],
      "metadata": {
        "colab": {
          "base_uri": "https://localhost:8080/",
          "height": 438
        },
        "id": "rYZI8nvt3Imc",
        "outputId": "6eff9787-114a-4f77-b0d8-52cad360a896"
      },
      "execution_count": 48,
      "outputs": [
        {
          "output_type": "stream",
          "name": "stderr",
          "text": [
            "/usr/local/lib/python3.7/dist-packages/matplotlib/backends/backend_agg.py:214: RuntimeWarning: Glyph 9 missing from current font.\n",
            "  font.set_text(s, 0.0, flags=flags)\n",
            "/usr/local/lib/python3.7/dist-packages/matplotlib/backends/backend_agg.py:183: RuntimeWarning: Glyph 9 missing from current font.\n",
            "  font.set_text(s, 0, flags=flags)\n"
          ]
        },
        {
          "output_type": "execute_result",
          "data": {
            "text/plain": [
              "[Text(0.5, 1.0, 'Heatmap of Dataset')]"
            ]
          },
          "metadata": {},
          "execution_count": 48
        },
        {
          "output_type": "display_data",
          "data": {
            "text/plain": [
              "<Figure size 432x288 with 2 Axes>"
            ],
            "image/png": "[encoded data removed]"
          },
          "metadata": {
            "needs_background": "light"
          }
        }
      ]
    },
    {
      "cell_type": "markdown",
      "source": [
        "##2a"
      ],
      "metadata": {
        "id": "HbhdbOlx4Mpf"
      }
    },
    {
      "cell_type": "markdown",
      "source": [
        "2 hours 30 minutes"
      ],
      "metadata": {
        "id": "FTI0O2ga4O83"
      }
    },
    {
      "cell_type": "markdown",
      "source": [
        "##2b"
      ],
      "metadata": {
        "id": "E0YmnvlF4U--"
      }
    },
    {
      "cell_type": "markdown",
      "source": [
        "The hardest topic has to be the scatter plot section. I found it hard figuring how to specify my favorite club on the scatter plot. The easiest topic has to be the heatmap. "
      ],
      "metadata": {
        "id": "7PRYNlA84Wny"
      }
    },
    {
      "cell_type": "markdown",
      "source": [
        "##2c"
      ],
      "metadata": {
        "id": "Rq9lADth46wv"
      }
    },
    {
      "cell_type": "markdown",
      "source": [
        "I think i understand most of the visualizations but scatterplot might just be a visulization i need to learn more. For this exam, it was a bit difficult navigating how to specify my favorite club on the scatter plot. "
      ],
      "metadata": {
        "id": "h0oU6xWF482r"
      }
    },
    {
      "cell_type": "markdown",
      "source": [
        "##REFERENCES"
      ],
      "metadata": {
        "id": "ugKjsF4E5lQk"
      }
    },
    {
      "cell_type": "markdown",
      "source": [
        "\n",
        "\n",
        "1.   https://github.com/Tobaho/Tobaho.github.io\n",
        "2.   https://colab.research.google.com/github/nurfnick/Data_Viz/blob/main/30_Visualize_Conclusion.ipynb#scrollTo=mZRq0c00M9Br\n",
        "3.   https://raw.githubusercontent.com/nurfnick/Data_Viz/main/worldCupPlayer.csv\n",
        "4.   https://realpython.com/visualizing-python-plt-scatter/\n",
        "\n",
        "\n",
        "\n",
        "  \n",
        "  “I attest that the resources above were the only ones utilized in completing\n",
        "the exam and the work included is my own and no one else from the course.”\n",
        "\n",
        "\n",
        "\n"
      ],
      "metadata": {
        "id": "rkVWWUaN5n2X"
      }
    }
  ]
}