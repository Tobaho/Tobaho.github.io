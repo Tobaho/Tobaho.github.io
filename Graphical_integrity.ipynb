{
  "nbformat": 4,
  "nbformat_minor": 0,
  "metadata": {
    "colab": {
      "name": "Graphical integrity",
      "provenance": [],
      "authorship_tag": "ABX9TyOhDJ7jgXcxFV6ksdtuFI+y",
      "include_colab_link": true
    },
    "kernelspec": {
      "name": "python3",
      "display_name": "Python 3"
    },
    "language_info": {
      "name": "python"
    }
  },
  "cells": [
    {
      "cell_type": "markdown",
      "metadata": {
        "id": "view-in-github",
        "colab_type": "text"
      },
      "source": [
        "<a href=\"https://colab.research.google.com/github/Tobaho/Tobaho.github.io/blob/main/Graphical_integrity.ipynb\" target=\"_parent\"><img src=\"https://colab.research.google.com/assets/colab-badge.svg\" alt=\"Open In Colab\"/></a>"
      ]
    },
    {
      "cell_type": "markdown",
      "source": [
        "##Graphical integrity"
      ],
      "metadata": {
        "id": "BCQBUzxOvL_O"
      }
    },
    {
      "cell_type": "markdown",
      "source": [
        "https://symposium.foragerone.com/okrd22/presentations/37213"
      ],
      "metadata": {
        "id": "0UyQHYMsvP-B"
      }
    },
    {
      "cell_type": "markdown",
      "source": [
        "This presentation displayed graphical excellence. The post was clear, detailed and the graphics did not qoute data out of text. The writers aim was to show how wedding venues use instagram to attract brides. She made a graph comparing thhese venues and the likes it recieved. This graph, i believe demonstrated graphical excellence. Though this graph displayed graphical excellence, i think there should have been a comparison betwween a lot of venues and not juding based on three. "
      ],
      "metadata": {
        "id": "fUvBHtywvUGt"
      }
    },
    {
      "cell_type": "markdown",
      "source": [
        "https://symposium.foragerone.com/okrd22/presentations/37192"
      ],
      "metadata": {
        "id": "_fgJ7n5TxVKq"
      }
    },
    {
      "cell_type": "markdown",
      "source": [
        "This post demonstrated graphical excellence. The poster ensured that the actual events were labeled and explained. The graphics in this post did not quote data out of context."
      ],
      "metadata": {
        "id": "ZWFBD_nOxVyl"
      }
    },
    {
      "cell_type": "markdown",
      "source": [
        "https://symposium.foragerone.com/okrd22/presentations/36718"
      ],
      "metadata": {
        "id": "HWPdAiN8zfpP"
      }
    },
    {
      "cell_type": "markdown",
      "source": [
        "I thought that this was a very exciting post to read however this post does not display enough graphical excellence. The poster gathered some important data but missed them when he was plotting the pie chart. The pie chart doesn't show us enough data variation. We can't exactly tell the demographics from the pie chart. "
      ],
      "metadata": {
        "id": "r39Y6F23zgqO"
      }
    }
  ]
}