{
  "nbformat": 4,
  "nbformat_minor": 0,
  "metadata": {
    "colab": {
      "name": "Project two",
      "provenance": [],
      "authorship_tag": "ABX9TyMiFmgP2VgSRBJpbzi0OMyA",
      "include_colab_link": true
    },
    "kernelspec": {
      "name": "python3",
      "display_name": "Python 3"
    },
    "language_info": {
      "name": "python"
    }
  },
  "cells": [
    {
      "cell_type": "markdown",
      "metadata": {
        "id": "view-in-github",
        "colab_type": "text"
      },
      "source": [
        "<a href=\"https://colab.research.google.com/github/Tobaho/Tobaho.github.io/blob/main/Project_two.ipynb\" target=\"_parent\"><img src=\"https://colab.research.google.com/assets/colab-badge.svg\" alt=\"Open In Colab\"/></a>"
      ]
    },
    {
      "cell_type": "markdown",
      "source": [
        "# **Project Module 2 : Functions and Relations**\n"
      ],
      "metadata": {
        "id": "cXq81Ere0s3M"
      }
    },
    {
      "cell_type": "markdown",
      "source": [
        "# **Dr Jacob**"
      ],
      "metadata": {
        "id": "i8KUNUAzPrlH"
      }
    },
    {
      "cell_type": "markdown",
      "source": [
        "# **Oluwatobi Afolabi**"
      ],
      "metadata": {
        "id": "GxJWxiAlQE48"
      }
    },
    {
      "cell_type": "markdown",
      "source": [
        "**Introduction**"
      ],
      "metadata": {
        "id": "zaokMsGTQXGt"
      }
    },
    {
      "cell_type": "markdown",
      "source": [
        "The first part of this project I will be defining a function with at least three features and graphing it. \n"
      ],
      "metadata": {
        "id": "GscjOFzbQbHZ"
      }
    },
    {
      "cell_type": "markdown",
      "source": [
        "# **Function**\n",
        "\n",
        "For this project, I have created a function with at least three features.\n",
        "\n",
        " $$\n",
        "f(x) = 2-\\frac{x^3+4}{{πex}}\n",
        "$$"
      ],
      "metadata": {
        "id": "XiidGh5iX11O"
      }
    },
    {
      "cell_type": "code",
      "source": [
        "import math\n",
        "import numpy as np\n",
        "#creating a function name as vinc\n",
        "def vinc (x):\n",
        "  return (2 - ((x**3+4)/(math.pi*np.e*x)))"
      ],
      "metadata": {
        "id": "4vsG-rmdYkoi"
      },
      "execution_count": 76,
      "outputs": []
    },
    {
      "cell_type": "code",
      "source": [
        "vinc(5)"
      ],
      "metadata": {
        "colab": {
          "base_uri": "https://localhost:8080/"
        },
        "id": "pFy21I0XlH08",
        "outputId": "3a8094da-579c-48ab-ace6-39aab76e8c58"
      },
      "execution_count": 77,
      "outputs": [
        {
          "output_type": "execute_result",
          "data": {
            "text/plain": [
              "-1.0211713066548689"
            ]
          },
          "metadata": {},
          "execution_count": 77
        }
      ]
    },
    {
      "cell_type": "code",
      "source": [
        "vinc(-2)"
      ],
      "metadata": {
        "colab": {
          "base_uri": "https://localhost:8080/"
        },
        "id": "y4AO0Z16sMxN",
        "outputId": "053d2ca7-e351-43f9-a554-8fb81bc0339f"
      },
      "execution_count": 78,
      "outputs": [
        {
          "output_type": "execute_result",
          "data": {
            "text/plain": [
              "1.7658006739027234"
            ]
          },
          "metadata": {},
          "execution_count": 78
        }
      ]
    },
    {
      "cell_type": "markdown",
      "source": [
        "For vinc(-2), I was playing around and wanted to see if a negative integer would give me a positive output. "
      ],
      "metadata": {
        "id": "fCqQvgqFsc7o"
      }
    },
    {
      "cell_type": "code",
      "source": [
        "import matplotlib.pyplot as plt\n",
        "\n",
        "x = np.arange(-5,6,.1)\n",
        "\n",
        "plt.plot(x,vinc(x))"
      ],
      "metadata": {
        "colab": {
          "base_uri": "https://localhost:8080/",
          "height": 293
        },
        "id": "g85QB85YsrWn",
        "outputId": "19434135-5054-48aa-e47f-7d0879abc5e5"
      },
      "execution_count": 84,
      "outputs": [
        {
          "output_type": "execute_result",
          "data": {
            "text/plain": [
              "[<matplotlib.lines.Line2D at 0x7fbc20b23210>]"
            ]
          },
          "metadata": {},
          "execution_count": 84
        },
        {
          "output_type": "display_data",
          "data": {
            "image/png": "[encoded data removed]",
            "text/plain": [
              "<Figure size 432x288 with 1 Axes>"
            ]
          },
          "metadata": {
            "needs_background": "light"
          }
        }
      ]
    },
    {
      "cell_type": "markdown",
      "source": [
        "My function is not bijective on the graphed domain. "
      ],
      "metadata": {
        "id": "9w-ElylYu-LK"
      }
    },
    {
      "cell_type": "markdown",
      "source": [
        "# **Dictionaries**"
      ],
      "metadata": {
        "id": "4PGJ14z_vmVF"
      }
    },
    {
      "cell_type": "markdown",
      "source": [
        "My dictionary is going to be Amazingspiderman and Farfromhome."
      ],
      "metadata": {
        "id": "pqDoa8Y7wUqt"
      }
    },
    {
      "cell_type": "code",
      "source": [
        "Amazingspiderman = {'Spiderman', 'Gwen', 'Maryjane','Electro','AuntMay'}\n",
        "Farfromhome = {'Nickfury', 'Mysterio','Michellejane', 'Betty', 'Dimitri','Spiderman'}\n",
        "dictionary = dict({a:b for a,b in zip(Amazingspiderman, Farfromhome)})"
      ],
      "metadata": {
        "id": "iugCcJQ_wMWK"
      },
      "execution_count": 86,
      "outputs": []
    },
    {
      "cell_type": "code",
      "source": [
        "dictionary"
      ],
      "metadata": {
        "colab": {
          "base_uri": "https://localhost:8080/"
        },
        "id": "qCpuaviZwwRM",
        "outputId": "74f445b9-d0dd-4ecc-d0db-0b8c1a2a66cd"
      },
      "execution_count": 87,
      "outputs": [
        {
          "output_type": "execute_result",
          "data": {
            "text/plain": [
              "{'AuntMay': 'Dimitri',\n",
              " 'Electro': 'Nickfury',\n",
              " 'Gwen': 'Mysterio',\n",
              " 'Maryjane': 'Michellejane',\n",
              " 'Spiderman': 'Betty'}"
            ]
          },
          "metadata": {},
          "execution_count": 87
        }
      ]
    },
    {
      "cell_type": "code",
      "source": [
        "actualDictionary = dict({'Gwen':'Spiderman','Betty':'Maryjane','Electro':'Mysterio'})"
      ],
      "metadata": {
        "id": "1Xuo4eVHxBww"
      },
      "execution_count": 88,
      "outputs": []
    },
    {
      "cell_type": "code",
      "source": [
        "newList = [actualDictionary.get(x,x) for x in Amazingspiderman ]"
      ],
      "metadata": {
        "id": "WG6pL84MxUiA"
      },
      "execution_count": 90,
      "outputs": []
    },
    {
      "cell_type": "code",
      "source": [
        "newList"
      ],
      "metadata": {
        "colab": {
          "base_uri": "https://localhost:8080/"
        },
        "id": "wkEhGBUrxa1k",
        "outputId": "8e6e1617-30a4-4a5d-b635-11435c5e2dba"
      },
      "execution_count": 91,
      "outputs": [
        {
          "output_type": "execute_result",
          "data": {
            "text/plain": [
              "['AuntMay', 'Spiderman', 'Spiderman', 'Maryjane', 'Mysterio']"
            ]
          },
          "metadata": {},
          "execution_count": 91
        }
      ]
    },
    {
      "cell_type": "code",
      "source": [
        "newlist2 = [actualDictionary.get(x,x) for x in Farfromhome]"
      ],
      "metadata": {
        "id": "6zINYdM4x3jf"
      },
      "execution_count": 92,
      "outputs": []
    },
    {
      "cell_type": "code",
      "source": [
        "newlist2"
      ],
      "metadata": {
        "colab": {
          "base_uri": "https://localhost:8080/"
        },
        "id": "vNkOLbNdx6mV",
        "outputId": "d0ce462a-7b47-4008-b44e-4d0122cf7751"
      },
      "execution_count": 93,
      "outputs": [
        {
          "output_type": "execute_result",
          "data": {
            "text/plain": [
              "['Dimitri', 'Mysterio', 'Maryjane', 'Michellejane', 'Nickfury', 'Spiderman']"
            ]
          },
          "metadata": {},
          "execution_count": 93
        }
      ]
    },
    {
      "cell_type": "markdown",
      "source": [
        "The relation is neither symmetric, transitive nor reflexive.  "
      ],
      "metadata": {
        "id": "grSvrrUazxsS"
      }
    }
  ]
}